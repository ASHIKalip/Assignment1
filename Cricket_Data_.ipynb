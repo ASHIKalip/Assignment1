{
  "nbformat": 4,
  "nbformat_minor": 0,
  "metadata": {
    "colab": {
      "name": "Cricket_Data_.ipynb",
      "provenance": [],
      "collapsed_sections": [],
      "authorship_tag": "ABX9TyNIK5dh8cI9Gx7ZB5WR510B",
      "include_colab_link": true
    },
    "kernelspec": {
      "name": "python3",
      "display_name": "Python 3"
    },
    "language_info": {
      "name": "python"
    }
  },
  "cells": [
    {
      "cell_type": "markdown",
      "metadata": {
        "id": "view-in-github",
        "colab_type": "text"
      },
      "source": [
        "<a href=\"https://colab.research.google.com/github/ASHIKalip/DataScience/blob/main/Cricket_Data_.ipynb\" target=\"_parent\"><img src=\"https://colab.research.google.com/assets/colab-badge.svg\" alt=\"Open In Colab\"/></a>"
      ]
    },
    {
      "cell_type": "code",
      "execution_count": 4,
      "metadata": {
        "colab": {
          "base_uri": "https://localhost:8080/",
          "height": 676
        },
        "id": "3t_xRc87Ky2L",
        "outputId": "e138090e-f05e-45f5-e60f-2b621ccbeeba"
      },
      "outputs": [
        {
          "output_type": "execute_result",
          "data": {
            "text/plain": [
              "         Players  Runs_Scored  Wickets_took Player_type\n",
              "0      Saicharan         1500             1         bat\n",
              "1     Abhishekar         1001             2         bat\n",
              "2          Ashik        10000             3         bat\n",
              "3       MS.Dhoni         5000             4         bat\n",
              "4          Rohit         4000             5         bat\n",
              "5          Kohli         3000             6         bat\n",
              "6         Dhawan         2000             7         bat\n",
              "7       KL.Rahul         1300             8         bat\n",
              "8             DK         2000             9         bat\n",
              "9         Jadeja         4000            10         bat\n",
              "10        Bhumra          300            40        bowl\n",
              "11  Bhuvaneshwar          400            50        bowl\n",
              "12    Umesyadhav          300           100        bowl\n",
              "13         Shami          200           200        bowl\n",
              "14  Harshalpatel          100           300        bowl\n",
              "15         Dinda            4           400        bowl\n",
              "16          Axar          444           500        bowl\n",
              "17       Koushik          444           600        bowl\n",
              "18        chahal          555           700        bowl\n",
              "19       kuldeep          590           800        bowl"
            ],
            "text/html": [
              "\n",
              "  <div id=\"df-6cc6fd9e-4b40-4e4f-ac03-12975a33262a\">\n",
              "    <div class=\"colab-df-container\">\n",
              "      <div>\n",
              "<style scoped>\n",
              "    .dataframe tbody tr th:only-of-type {\n",
              "        vertical-align: middle;\n",
              "    }\n",
              "\n",
              "    .dataframe tbody tr th {\n",
              "        vertical-align: top;\n",
              "    }\n",
              "\n",
              "    .dataframe thead th {\n",
              "        text-align: right;\n",
              "    }\n",
              "</style>\n",
              "<table border=\"1\" class=\"dataframe\">\n",
              "  <thead>\n",
              "    <tr style=\"text-align: right;\">\n",
              "      <th></th>\n",
              "      <th>Players</th>\n",
              "      <th>Runs_Scored</th>\n",
              "      <th>Wickets_took</th>\n",
              "      <th>Player_type</th>\n",
              "    </tr>\n",
              "  </thead>\n",
              "  <tbody>\n",
              "    <tr>\n",
              "      <th>0</th>\n",
              "      <td>Saicharan</td>\n",
              "      <td>1500</td>\n",
              "      <td>1</td>\n",
              "      <td>bat</td>\n",
              "    </tr>\n",
              "    <tr>\n",
              "      <th>1</th>\n",
              "      <td>Abhishekar</td>\n",
              "      <td>1001</td>\n",
              "      <td>2</td>\n",
              "      <td>bat</td>\n",
              "    </tr>\n",
              "    <tr>\n",
              "      <th>2</th>\n",
              "      <td>Ashik</td>\n",
              "      <td>10000</td>\n",
              "      <td>3</td>\n",
              "      <td>bat</td>\n",
              "    </tr>\n",
              "    <tr>\n",
              "      <th>3</th>\n",
              "      <td>MS.Dhoni</td>\n",
              "      <td>5000</td>\n",
              "      <td>4</td>\n",
              "      <td>bat</td>\n",
              "    </tr>\n",
              "    <tr>\n",
              "      <th>4</th>\n",
              "      <td>Rohit</td>\n",
              "      <td>4000</td>\n",
              "      <td>5</td>\n",
              "      <td>bat</td>\n",
              "    </tr>\n",
              "    <tr>\n",
              "      <th>5</th>\n",
              "      <td>Kohli</td>\n",
              "      <td>3000</td>\n",
              "      <td>6</td>\n",
              "      <td>bat</td>\n",
              "    </tr>\n",
              "    <tr>\n",
              "      <th>6</th>\n",
              "      <td>Dhawan</td>\n",
              "      <td>2000</td>\n",
              "      <td>7</td>\n",
              "      <td>bat</td>\n",
              "    </tr>\n",
              "    <tr>\n",
              "      <th>7</th>\n",
              "      <td>KL.Rahul</td>\n",
              "      <td>1300</td>\n",
              "      <td>8</td>\n",
              "      <td>bat</td>\n",
              "    </tr>\n",
              "    <tr>\n",
              "      <th>8</th>\n",
              "      <td>DK</td>\n",
              "      <td>2000</td>\n",
              "      <td>9</td>\n",
              "      <td>bat</td>\n",
              "    </tr>\n",
              "    <tr>\n",
              "      <th>9</th>\n",
              "      <td>Jadeja</td>\n",
              "      <td>4000</td>\n",
              "      <td>10</td>\n",
              "      <td>bat</td>\n",
              "    </tr>\n",
              "    <tr>\n",
              "      <th>10</th>\n",
              "      <td>Bhumra</td>\n",
              "      <td>300</td>\n",
              "      <td>40</td>\n",
              "      <td>bowl</td>\n",
              "    </tr>\n",
              "    <tr>\n",
              "      <th>11</th>\n",
              "      <td>Bhuvaneshwar</td>\n",
              "      <td>400</td>\n",
              "      <td>50</td>\n",
              "      <td>bowl</td>\n",
              "    </tr>\n",
              "    <tr>\n",
              "      <th>12</th>\n",
              "      <td>Umesyadhav</td>\n",
              "      <td>300</td>\n",
              "      <td>100</td>\n",
              "      <td>bowl</td>\n",
              "    </tr>\n",
              "    <tr>\n",
              "      <th>13</th>\n",
              "      <td>Shami</td>\n",
              "      <td>200</td>\n",
              "      <td>200</td>\n",
              "      <td>bowl</td>\n",
              "    </tr>\n",
              "    <tr>\n",
              "      <th>14</th>\n",
              "      <td>Harshalpatel</td>\n",
              "      <td>100</td>\n",
              "      <td>300</td>\n",
              "      <td>bowl</td>\n",
              "    </tr>\n",
              "    <tr>\n",
              "      <th>15</th>\n",
              "      <td>Dinda</td>\n",
              "      <td>4</td>\n",
              "      <td>400</td>\n",
              "      <td>bowl</td>\n",
              "    </tr>\n",
              "    <tr>\n",
              "      <th>16</th>\n",
              "      <td>Axar</td>\n",
              "      <td>444</td>\n",
              "      <td>500</td>\n",
              "      <td>bowl</td>\n",
              "    </tr>\n",
              "    <tr>\n",
              "      <th>17</th>\n",
              "      <td>Koushik</td>\n",
              "      <td>444</td>\n",
              "      <td>600</td>\n",
              "      <td>bowl</td>\n",
              "    </tr>\n",
              "    <tr>\n",
              "      <th>18</th>\n",
              "      <td>chahal</td>\n",
              "      <td>555</td>\n",
              "      <td>700</td>\n",
              "      <td>bowl</td>\n",
              "    </tr>\n",
              "    <tr>\n",
              "      <th>19</th>\n",
              "      <td>kuldeep</td>\n",
              "      <td>590</td>\n",
              "      <td>800</td>\n",
              "      <td>bowl</td>\n",
              "    </tr>\n",
              "  </tbody>\n",
              "</table>\n",
              "</div>\n",
              "      <button class=\"colab-df-convert\" onclick=\"convertToInteractive('df-6cc6fd9e-4b40-4e4f-ac03-12975a33262a')\"\n",
              "              title=\"Convert this dataframe to an interactive table.\"\n",
              "              style=\"display:none;\">\n",
              "        \n",
              "  <svg xmlns=\"http://www.w3.org/2000/svg\" height=\"24px\"viewBox=\"0 0 24 24\"\n",
              "       width=\"24px\">\n",
              "    <path d=\"M0 0h24v24H0V0z\" fill=\"none\"/>\n",
              "    <path d=\"M18.56 5.44l.94 2.06.94-2.06 2.06-.94-2.06-.94-.94-2.06-.94 2.06-2.06.94zm-11 1L8.5 8.5l.94-2.06 2.06-.94-2.06-.94L8.5 2.5l-.94 2.06-2.06.94zm10 10l.94 2.06.94-2.06 2.06-.94-2.06-.94-.94-2.06-.94 2.06-2.06.94z\"/><path d=\"M17.41 7.96l-1.37-1.37c-.4-.4-.92-.59-1.43-.59-.52 0-1.04.2-1.43.59L10.3 9.45l-7.72 7.72c-.78.78-.78 2.05 0 2.83L4 21.41c.39.39.9.59 1.41.59.51 0 1.02-.2 1.41-.59l7.78-7.78 2.81-2.81c.8-.78.8-2.07 0-2.86zM5.41 20L4 18.59l7.72-7.72 1.47 1.35L5.41 20z\"/>\n",
              "  </svg>\n",
              "      </button>\n",
              "      \n",
              "  <style>\n",
              "    .colab-df-container {\n",
              "      display:flex;\n",
              "      flex-wrap:wrap;\n",
              "      gap: 12px;\n",
              "    }\n",
              "\n",
              "    .colab-df-convert {\n",
              "      background-color: #E8F0FE;\n",
              "      border: none;\n",
              "      border-radius: 50%;\n",
              "      cursor: pointer;\n",
              "      display: none;\n",
              "      fill: #1967D2;\n",
              "      height: 32px;\n",
              "      padding: 0 0 0 0;\n",
              "      width: 32px;\n",
              "    }\n",
              "\n",
              "    .colab-df-convert:hover {\n",
              "      background-color: #E2EBFA;\n",
              "      box-shadow: 0px 1px 2px rgba(60, 64, 67, 0.3), 0px 1px 3px 1px rgba(60, 64, 67, 0.15);\n",
              "      fill: #174EA6;\n",
              "    }\n",
              "\n",
              "    [theme=dark] .colab-df-convert {\n",
              "      background-color: #3B4455;\n",
              "      fill: #D2E3FC;\n",
              "    }\n",
              "\n",
              "    [theme=dark] .colab-df-convert:hover {\n",
              "      background-color: #434B5C;\n",
              "      box-shadow: 0px 1px 3px 1px rgba(0, 0, 0, 0.15);\n",
              "      filter: drop-shadow(0px 1px 2px rgba(0, 0, 0, 0.3));\n",
              "      fill: #FFFFFF;\n",
              "    }\n",
              "  </style>\n",
              "\n",
              "      <script>\n",
              "        const buttonEl =\n",
              "          document.querySelector('#df-6cc6fd9e-4b40-4e4f-ac03-12975a33262a button.colab-df-convert');\n",
              "        buttonEl.style.display =\n",
              "          google.colab.kernel.accessAllowed ? 'block' : 'none';\n",
              "\n",
              "        async function convertToInteractive(key) {\n",
              "          const element = document.querySelector('#df-6cc6fd9e-4b40-4e4f-ac03-12975a33262a');\n",
              "          const dataTable =\n",
              "            await google.colab.kernel.invokeFunction('convertToInteractive',\n",
              "                                                     [key], {});\n",
              "          if (!dataTable) return;\n",
              "\n",
              "          const docLinkHtml = 'Like what you see? Visit the ' +\n",
              "            '<a target=\"_blank\" href=https://colab.research.google.com/notebooks/data_table.ipynb>data table notebook</a>'\n",
              "            + ' to learn more about interactive tables.';\n",
              "          element.innerHTML = '';\n",
              "          dataTable['output_type'] = 'display_data';\n",
              "          await google.colab.output.renderOutput(dataTable, element);\n",
              "          const docLink = document.createElement('div');\n",
              "          docLink.innerHTML = docLinkHtml;\n",
              "          element.appendChild(docLink);\n",
              "        }\n",
              "      </script>\n",
              "    </div>\n",
              "  </div>\n",
              "  "
            ]
          },
          "metadata": {},
          "execution_count": 4
        }
      ],
      "source": [
        "import pandas as pd\n",
        "import numpy as np\n",
        "import matplotlib.pyplot as plt\n",
        "data=pd.DataFrame({'Players':['Saicharan','Abhishekar','Ashik','MS.Dhoni','Rohit','Kohli','Dhawan','KL.Rahul','DK','Jadeja',\n",
        "                              'Bhumra','Bhuvaneshwar','Umesyadhav','Shami','Harshalpatel','Dinda','Axar','Koushik','chahal','kuldeep'],\n",
        "                   'Runs_Scored':[1500, 1001, 10000, 5000, 4000, 3000, 2000, 1300, 2000, 4000, 300, 400, 300, 200, 100, 4, 444, 444, 555, 590],\n",
        "                   'Wickets_took':[1, 2, 3, 4, 5, 6, 7, 8, 9, 10, 40, 50, 100, 200, 300, 400, 500, 600, 700, 800],\n",
        "                   'Player_type':['bat','bat','bat','bat','bat','bat','bat','bat','bat','bat','bowl','bowl','bowl','bowl','bowl','bowl','bowl','bowl','bowl','bowl']})\n",
        "data\n",
        "\n",
        "\n"
      ]
    },
    {
      "cell_type": "code",
      "source": [
        "c=np.array(data['Players'])\n",
        "d=np.array(data['Wickets_took'])\n",
        "plt.scatter(d,c)\n",
        "\n"
      ],
      "metadata": {
        "colab": {
          "base_uri": "https://localhost:8080/",
          "height": 282
        },
        "id": "oHjB6WAbK2A1",
        "outputId": "9f73aebe-5452-4cd0-efaf-8f804f2a420e"
      },
      "execution_count": 5,
      "outputs": [
        {
          "output_type": "execute_result",
          "data": {
            "text/plain": [
              "<matplotlib.collections.PathCollection at 0x7f044117f850>"
            ]
          },
          "metadata": {},
          "execution_count": 5
        },
        {
          "output_type": "display_data",
          "data": {
            "text/plain": [
              "<Figure size 432x288 with 1 Axes>"
            ],
            "image/png": "[encoded data removed]"
          },
          "metadata": {
            "needs_background": "light"
          }
        }
      ]
    },
    {
      "cell_type": "code",
      "source": [
        "c=np.array(data['Players'])\n",
        "d=np.array(data['Runs_Scored'])\n",
        "plt.scatter(d,c)\n"
      ],
      "metadata": {
        "colab": {
          "base_uri": "https://localhost:8080/",
          "height": 282
        },
        "id": "UM1a3G5MLTmX",
        "outputId": "1d59ae6d-7ff1-49b9-899e-45146a28fc9d"
      },
      "execution_count": 6,
      "outputs": [
        {
          "output_type": "execute_result",
          "data": {
            "text/plain": [
              "<matplotlib.collections.PathCollection at 0x7f044112cad0>"
            ]
          },
          "metadata": {},
          "execution_count": 6
        },
        {
          "output_type": "display_data",
          "data": {
            "text/plain": [
              "<Figure size 432x288 with 1 Axes>"
            ],
            "image/png": "[encoded data removed]"
          },
          "metadata": {
            "needs_background": "light"
          }
        }
      ]
    },
    {
      "cell_type": "code",
      "source": [
        "\n",
        "\n",
        "c=np.array(data['Players'])\n",
        "d=np.array(data['Wickets_took'])\n",
        "plt.barh(c,d,color='green')\n",
        "\n"
      ],
      "metadata": {
        "colab": {
          "base_uri": "https://localhost:8080/",
          "height": 282
        },
        "id": "SO8_M2zgLWGc",
        "outputId": "176e4078-c8af-4425-bc4b-05d0a776e96d"
      },
      "execution_count": 7,
      "outputs": [
        {
          "output_type": "execute_result",
          "data": {
            "text/plain": [
              "<BarContainer object of 20 artists>"
            ]
          },
          "metadata": {},
          "execution_count": 7
        },
        {
          "output_type": "display_data",
          "data": {
            "text/plain": [
              "<Figure size 432x288 with 1 Axes>"
            ],
            "image/png": "[encoded data removed]"
          },
          "metadata": {
            "needs_background": "light"
          }
        }
      ]
    },
    {
      "cell_type": "code",
      "source": [
        "\n",
        "c=np.array(data['Players'])\n",
        "d=np.array(data['Runs_Scored'])\n",
        "plt.barh(c,d,color='red')"
      ],
      "metadata": {
        "colab": {
          "base_uri": "https://localhost:8080/",
          "height": 282
        },
        "id": "Ly3IaRTJLYIf",
        "outputId": "09a4a400-892b-4083-8ef4-68ac4debc68b"
      },
      "execution_count": 8,
      "outputs": [
        {
          "output_type": "execute_result",
          "data": {
            "text/plain": [
              "<BarContainer object of 20 artists>"
            ]
          },
          "metadata": {},
          "execution_count": 8
        },
        {
          "output_type": "display_data",
          "data": {
            "text/plain": [
              "<Figure size 432x288 with 1 Axes>"
            ],
            "image/png": "[encoded data removed]"
          },
          "metadata": {
            "needs_background": "light"
          }
        }
      ]
    },
    {
      "cell_type": "code",
      "source": [
        ""
      ],
      "metadata": {
        "id": "CI5XrMQyLZ2j"
      },
      "execution_count": null,
      "outputs": []
    }
  ]
}